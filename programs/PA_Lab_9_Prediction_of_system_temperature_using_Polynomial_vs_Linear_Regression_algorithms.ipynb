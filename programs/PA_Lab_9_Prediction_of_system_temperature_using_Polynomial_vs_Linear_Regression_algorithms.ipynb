{
  "cells": [
    {
      "cell_type": "markdown",
      "source": [
        "Prediction of system temperature using Polynomial vs Linear Regression algorithms"
      ],
      "metadata": {
        "id": "CIj6v0u44m4U"
      }
    },
    {
      "cell_type": "code",
      "execution_count": null,
      "metadata": {
        "id": "hDN23XuN4kgc"
      },
      "outputs": [],
      "source": [
        "#libraries\n",
        "import numpy as np\n",
        "import matplotlib.pyplot as plt\n",
        "import pandas as pd"
      ]
    },
    {
      "cell_type": "code",
      "execution_count": null,
      "metadata": {
        "id": "yOBaHvVv4kgm",
        "outputId": "5d561b79-14a2-4843-beea-8e800c683710"
      },
      "outputs": [
        {
          "data": {
            "text/html": [
              "<div>\n",
              "<style scoped>\n",
              "    .dataframe tbody tr th:only-of-type {\n",
              "        vertical-align: middle;\n",
              "    }\n",
              "\n",
              "    .dataframe tbody tr th {\n",
              "        vertical-align: top;\n",
              "    }\n",
              "\n",
              "    .dataframe thead th {\n",
              "        text-align: right;\n",
              "    }\n",
              "</style>\n",
              "<table border=\"1\" class=\"dataframe\">\n",
              "  <thead>\n",
              "    <tr style=\"text-align: right;\">\n",
              "      <th></th>\n",
              "      <th>CPU Total</th>\n",
              "      <th>CPU Package Temperature</th>\n",
              "      <th>Memory</th>\n",
              "      <th>Used Memory</th>\n",
              "      <th>Temperature</th>\n",
              "      <th>Used Space</th>\n",
              "    </tr>\n",
              "  </thead>\n",
              "  <tbody>\n",
              "    <tr>\n",
              "      <th>0</th>\n",
              "      <td>3.528023</td>\n",
              "      <td>40</td>\n",
              "      <td>48.994663</td>\n",
              "      <td>1.918564</td>\n",
              "      <td>35</td>\n",
              "      <td>92.11886</td>\n",
              "    </tr>\n",
              "    <tr>\n",
              "      <th>1</th>\n",
              "      <td>5.060095</td>\n",
              "      <td>40</td>\n",
              "      <td>48.971184</td>\n",
              "      <td>1.917644</td>\n",
              "      <td>35</td>\n",
              "      <td>92.11886</td>\n",
              "    </tr>\n",
              "    <tr>\n",
              "      <th>2</th>\n",
              "      <td>10.937500</td>\n",
              "      <td>40</td>\n",
              "      <td>49.110200</td>\n",
              "      <td>1.923088</td>\n",
              "      <td>35</td>\n",
              "      <td>92.11886</td>\n",
              "    </tr>\n",
              "    <tr>\n",
              "      <th>3</th>\n",
              "      <td>5.078125</td>\n",
              "      <td>40</td>\n",
              "      <td>49.125004</td>\n",
              "      <td>1.923668</td>\n",
              "      <td>35</td>\n",
              "      <td>92.11886</td>\n",
              "    </tr>\n",
              "    <tr>\n",
              "      <th>4</th>\n",
              "      <td>2.343750</td>\n",
              "      <td>40</td>\n",
              "      <td>49.137670</td>\n",
              "      <td>1.924164</td>\n",
              "      <td>35</td>\n",
              "      <td>92.11886</td>\n",
              "    </tr>\n",
              "  </tbody>\n",
              "</table>\n",
              "</div>"
            ],
            "text/plain": [
              "   CPU Total  CPU Package Temperature     Memory  Used Memory  Temperature  \\\n",
              "0   3.528023                       40  48.994663     1.918564           35   \n",
              "1   5.060095                       40  48.971184     1.917644           35   \n",
              "2  10.937500                       40  49.110200     1.923088           35   \n",
              "3   5.078125                       40  49.125004     1.923668           35   \n",
              "4   2.343750                       40  49.137670     1.924164           35   \n",
              "\n",
              "   Used Space  \n",
              "0    92.11886  \n",
              "1    92.11886  \n",
              "2    92.11886  \n",
              "3    92.11886  \n",
              "4    92.11886  "
            ]
          },
          "execution_count": 4,
          "metadata": {},
          "output_type": "execute_result"
        }
      ],
      "source": [
        "#loading the dataset\n",
        "dataset = pd.read_csv(\"Dataset.csv\")\n",
        "dataset.head()"
      ]
    },
    {
      "cell_type": "code",
      "execution_count": null,
      "metadata": {
        "id": "G3DHtubk4kgu"
      },
      "outputs": [],
      "source": [
        "#removing cpu temp from dataset\n",
        "dataset.head()\n",
        "dataset.dtypes\n",
        "ds  = dataset.drop(columns = 'CPU Package Temperature')"
      ]
    },
    {
      "cell_type": "code",
      "execution_count": null,
      "metadata": {
        "id": "YIAADlRg4kg0",
        "outputId": "2edb5e4e-b6f5-4c5d-bad5-b01cc23d03ac"
      },
      "outputs": [
        {
          "name": "stdout",
          "output_type": "stream",
          "text": [
            "[[ 3.52802277 48.9946632   1.91856384 35.         92.11886   ]\n",
            " [ 5.060095   48.9711838   1.9176445  35.         92.11886   ]\n",
            " [10.9375     49.1102      1.92308807 35.         92.11886   ]\n",
            " ...\n",
            " [17.96875    54.2728844   2.12525177 42.         92.1337    ]\n",
            " [11.742425   54.24736     2.12425232 42.         92.1337    ]\n",
            " [13.7096767  54.24132     2.12401581 42.         92.1337    ]]\n"
          ]
        }
      ],
      "source": [
        "#rain data: all columns except cpu temp\n",
        "X = ds.iloc[::].values\n",
        "print(X)"
      ]
    },
    {
      "cell_type": "code",
      "execution_count": null,
      "metadata": {
        "id": "KOM_8Z_84kg5",
        "outputId": "c2e3ecee-ad38-445f-905a-b20946848441"
      },
      "outputs": [
        {
          "name": "stdout",
          "output_type": "stream",
          "text": [
            "[[1.91856384]\n",
            " [1.9176445 ]\n",
            " [1.92308807]\n",
            " ...\n",
            " [2.12525177]\n",
            " [2.12425232]\n",
            " [2.12401581]]\n"
          ]
        }
      ],
      "source": [
        "# includong only one one feature\n",
        "X1=X[:,[2]]\n",
        "print(X1)"
      ]
    },
    {
      "cell_type": "code",
      "execution_count": null,
      "metadata": {
        "id": "VlOrv9ep4kg8",
        "outputId": "14925a7e-07e4-4296-834e-f65f729442a3"
      },
      "outputs": [
        {
          "data": {
            "text/html": [
              "<div>\n",
              "<style scoped>\n",
              "    .dataframe tbody tr th:only-of-type {\n",
              "        vertical-align: middle;\n",
              "    }\n",
              "\n",
              "    .dataframe tbody tr th {\n",
              "        vertical-align: top;\n",
              "    }\n",
              "\n",
              "    .dataframe thead th {\n",
              "        text-align: right;\n",
              "    }\n",
              "</style>\n",
              "<table border=\"1\" class=\"dataframe\">\n",
              "  <thead>\n",
              "    <tr style=\"text-align: right;\">\n",
              "      <th></th>\n",
              "      <th>CPU Total</th>\n",
              "      <th>CPU Package Temperature</th>\n",
              "      <th>Memory</th>\n",
              "      <th>Used Memory</th>\n",
              "      <th>Temperature</th>\n",
              "      <th>Used Space</th>\n",
              "    </tr>\n",
              "  </thead>\n",
              "  <tbody>\n",
              "    <tr>\n",
              "      <th>0</th>\n",
              "      <td>3.528023</td>\n",
              "      <td>40</td>\n",
              "      <td>48.994663</td>\n",
              "      <td>1.918564</td>\n",
              "      <td>35</td>\n",
              "      <td>92.11886</td>\n",
              "    </tr>\n",
              "    <tr>\n",
              "      <th>1</th>\n",
              "      <td>5.060095</td>\n",
              "      <td>40</td>\n",
              "      <td>48.971184</td>\n",
              "      <td>1.917644</td>\n",
              "      <td>35</td>\n",
              "      <td>92.11886</td>\n",
              "    </tr>\n",
              "    <tr>\n",
              "      <th>2</th>\n",
              "      <td>10.937500</td>\n",
              "      <td>40</td>\n",
              "      <td>49.110200</td>\n",
              "      <td>1.923088</td>\n",
              "      <td>35</td>\n",
              "      <td>92.11886</td>\n",
              "    </tr>\n",
              "    <tr>\n",
              "      <th>3</th>\n",
              "      <td>5.078125</td>\n",
              "      <td>40</td>\n",
              "      <td>49.125004</td>\n",
              "      <td>1.923668</td>\n",
              "      <td>35</td>\n",
              "      <td>92.11886</td>\n",
              "    </tr>\n",
              "    <tr>\n",
              "      <th>4</th>\n",
              "      <td>2.343750</td>\n",
              "      <td>40</td>\n",
              "      <td>49.137670</td>\n",
              "      <td>1.924164</td>\n",
              "      <td>35</td>\n",
              "      <td>92.11886</td>\n",
              "    </tr>\n",
              "  </tbody>\n",
              "</table>\n",
              "</div>"
            ],
            "text/plain": [
              "   CPU Total  CPU Package Temperature     Memory  Used Memory  Temperature  \\\n",
              "0   3.528023                       40  48.994663     1.918564           35   \n",
              "1   5.060095                       40  48.971184     1.917644           35   \n",
              "2  10.937500                       40  49.110200     1.923088           35   \n",
              "3   5.078125                       40  49.125004     1.923668           35   \n",
              "4   2.343750                       40  49.137670     1.924164           35   \n",
              "\n",
              "   Used Space  \n",
              "0    92.11886  \n",
              "1    92.11886  \n",
              "2    92.11886  \n",
              "3    92.11886  \n",
              "4    92.11886  "
            ]
          },
          "execution_count": 8,
          "metadata": {},
          "output_type": "execute_result"
        }
      ],
      "source": [
        " data = pd.read_csv(\"Dataset.csv\")\n",
        "data.head()"
      ]
    },
    {
      "cell_type": "code",
      "execution_count": null,
      "metadata": {
        "id": "_MlW_dcn4khC"
      },
      "outputs": [],
      "source": []
    },
    {
      "cell_type": "code",
      "execution_count": null,
      "metadata": {
        "id": "o-1OA4e74khD",
        "outputId": "bccc5310-2d00-4af5-edc4-94b347b06197"
      },
      "outputs": [
        {
          "name": "stdout",
          "output_type": "stream",
          "text": [
            "[40 40 40 ... 48 48 48]\n"
          ]
        }
      ],
      "source": [
        "#output feature\n",
        "Y = data.iloc[:,1].values\n",
        "print(Y)"
      ]
    },
    {
      "cell_type": "code",
      "execution_count": null,
      "metadata": {
        "id": "fH1fxz234khH",
        "outputId": "ff46bbbb-4ed4-4925-9c54-43343e10ee47"
      },
      "outputs": [
        {
          "name": "stderr",
          "output_type": "stream",
          "text": [
            "C:\\Users\\Mohan Sai\\Anaconda3\\lib\\site-packages\\sklearn\\cross_validation.py:41: DeprecationWarning: This module was deprecated in version 0.18 in favor of the model_selection module into which all the refactored classes and functions are moved. Also note that the interface of the new CV iterators are different from that of this module. This module will be removed in 0.20.\n",
            "  \"This module will be removed in 0.20.\", DeprecationWarning)\n"
          ]
        }
      ],
      "source": [
        "#splitting\n",
        "from sklearn.cross_validation import train_test_split\n",
        "X_train, X_test, y_train, y_test = train_test_split(X1, Y, test_size = 0.2, random_state = 0)"
      ]
    },
    {
      "cell_type": "code",
      "execution_count": null,
      "metadata": {
        "id": "hTdm1Dbj4khO",
        "outputId": "a704c3a1-7beb-42e6-cd53-04dbdf83d612"
      },
      "outputs": [
        {
          "data": {
            "text/plain": [
              "LinearRegression(copy_X=True, fit_intercept=True, n_jobs=1, normalize=False)"
            ]
          },
          "execution_count": 29,
          "metadata": {},
          "output_type": "execute_result"
        }
      ],
      "source": [
        "#polynomal regression\n",
        "from sklearn.preprocessing import PolynomialFeatures\n",
        "from sklearn.linear_model import LinearRegression\n",
        "polyreg = PolynomialFeatures(degree = 4) # Transform X into X_Poly which contains X, X squared, X cubed, etc\n",
        "X_Poly = polyreg.fit_transform(X1)\n",
        "regressor1 = LinearRegression() # Fit X_Poly in our Linear Regression model\n",
        "regressor1.fit(X_Poly,Y)"
      ]
    },
    {
      "cell_type": "code",
      "execution_count": null,
      "metadata": {
        "id": "GTYFWWtc4khS",
        "outputId": "dd78650f-2457-42c8-a09f-cc9a42c6fc90"
      },
      "outputs": [
        {
          "data": {
            "text/plain": [
              "(2190, 1)"
            ]
          },
          "execution_count": 30,
          "metadata": {},
          "output_type": "execute_result"
        }
      ],
      "source": [
        "X1.shape"
      ]
    },
    {
      "cell_type": "code",
      "execution_count": null,
      "metadata": {
        "id": "8Em0-cas4khV",
        "outputId": "58403fe2-1afd-4a92-c8cf-6cf9c8de71db"
      },
      "outputs": [
        {
          "data": {
            "text/plain": [
              "(2190, 5)"
            ]
          },
          "execution_count": 31,
          "metadata": {},
          "output_type": "execute_result"
        }
      ],
      "source": [
        "X_Poly.shape"
      ]
    },
    {
      "cell_type": "code",
      "execution_count": null,
      "metadata": {
        "id": "hCLN0ETx4khZ",
        "outputId": "875087eb-4cac-459c-86af-51a7c120696e"
      },
      "outputs": [
        {
          "name": "stdout",
          "output_type": "stream",
          "text": [
            "[40.54329613 40.51138967 40.69861546 ... 45.18661763 45.17429162\n",
            " 45.17136307]\n"
          ]
        }
      ],
      "source": [
        "# Predicting a new result\n",
        "y_pred = regressor1.predict(X_Poly)\n",
        "print(y_pred)\n"
      ]
    },
    {
      "cell_type": "code",
      "execution_count": null,
      "metadata": {
        "id": "_A3CngOp4khc",
        "outputId": "6ada01ef-986e-48dd-ad76-6fac033ce533"
      },
      "outputs": [
        {
          "name": "stdout",
          "output_type": "stream",
          "text": [
            "9.203938505726898\n"
          ]
        }
      ],
      "source": [
        "from sklearn.metrics import mean_squared_error\n",
        "mse = mean_squared_error(Y, y_pred)\n",
        "print(mse)"
      ]
    },
    {
      "cell_type": "code",
      "execution_count": null,
      "metadata": {
        "id": "lCJtAVVU4khh",
        "outputId": "5caa013c-3414-4a80-eb14-95c00e5bc540"
      },
      "outputs": [
        {
          "data": {
            "text/plain": [
              "LinearRegression(copy_X=True, fit_intercept=True, n_jobs=1, normalize=False)"
            ]
          },
          "execution_count": 34,
          "metadata": {},
          "output_type": "execute_result"
        }
      ],
      "source": [
        "from sklearn.linear_model import LinearRegression\n",
        "regressor = LinearRegression()\n",
        "regressor.fit(X1,Y)"
      ]
    },
    {
      "cell_type": "code",
      "execution_count": null,
      "metadata": {
        "id": "RlqX2aYm4khj",
        "outputId": "3152141f-e3bc-41d4-d671-586a4e8986e4"
      },
      "outputs": [
        {
          "data": {
            "image/png": "[encoded data removed]",
            "text/plain": [
              "<Figure size 432x288 with 1 Axes>"
            ]
          },
          "metadata": {},
          "output_type": "display_data"
        }
      ],
      "source": [
        "# Visualizing Linear Regression Results\n",
        "plt.scatter(X1, Y, color = 'red')\n",
        "plt.plot(X1, regressor.predict(X1), color = 'blue')\n",
        "plt.title('Linear Regression')\n",
        "plt.xlabel('STORAGE TEMP')\n",
        "plt.ylabel('CPU TEMP')\n",
        "plt.show()"
      ]
    },
    {
      "cell_type": "code",
      "execution_count": null,
      "metadata": {
        "id": "484okRVF4khl",
        "outputId": "12ffe4bc-81fc-49ff-cce7-74462b1f601f"
      },
      "outputs": [
        {
          "data": {
            "image/png": "[encoded data removed]",
            "text/plain": [
              "<Figure size 432x288 with 1 Axes>"
            ]
          },
          "metadata": {},
          "output_type": "display_data"
        }
      ],
      "source": [
        "# Visualising the Polynomial Regression results\n",
        "plt.scatter(X1, Y, color = 'red')\n",
        "plt.plot(X1, regressor1.predict(polyreg.fit_transform(X1)), color = 'blue')\n",
        "plt.title('Polynomial Regression')\n",
        "plt.xlabel('STOREGE TEMP')\n",
        "plt.ylabel('CPU TEMP')\n",
        "plt.show()"
      ]
    },
    {
      "cell_type": "code",
      "execution_count": null,
      "metadata": {
        "id": "4mQE1Tij4kho"
      },
      "outputs": [],
      "source": []
    }
  ],
  "metadata": {
    "kernelspec": {
      "display_name": "Python 3",
      "language": "python",
      "name": "python3"
    },
    "language_info": {
      "codemirror_mode": {
        "name": "ipython",
        "version": 3
      },
      "file_extension": ".py",
      "mimetype": "text/x-python",
      "name": "python",
      "nbconvert_exporter": "python",
      "pygments_lexer": "ipython3",
      "version": "3.6.5"
    },
    "colab": {
      "provenance": []
    }
  },
  "nbformat": 4,
  "nbformat_minor": 0
}